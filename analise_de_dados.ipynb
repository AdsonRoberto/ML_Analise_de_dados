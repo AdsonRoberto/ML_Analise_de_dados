{
 "cells": [
  {
   "cell_type": "markdown",
   "id": "fb21ab50-d84a-440b-b03b-b3421b171abf",
   "metadata": {},
   "source": [
    "# importando bibliotecas"
   ]
  },
  {
   "cell_type": "code",
   "execution_count": 1,
   "id": "3bd78ba9-d9cd-43b1-a2bf-8e3fcf1d00c0",
   "metadata": {},
   "outputs": [],
   "source": [
    "import pandas as pd\n",
    "import numpy as np\n",
    "import seaborn as sns\n",
    "import scipy"
   ]
  },
  {
   "cell_type": "markdown",
   "id": "af22c33a-ac98-471c-9614-3f855d8229ac",
   "metadata": {},
   "source": [
    "# carregando dados"
   ]
  },
  {
   "cell_type": "code",
   "execution_count": null,
   "id": "d38eefe3-5949-4241-8cc1-513cba045f2f",
   "metadata": {},
   "outputs": [],
   "source": [
    "#Lendo os dados com pandas \n",
    "dados = pd.read_csv(\"winequality-red.csv\")\n",
    "\n",
    "#exibindo os cinco primeiros do dataset\n",
    "dados.head()"
   ]
  }
 ],
 "metadata": {
  "kernelspec": {
   "display_name": "Python 3 (ipykernel)",
   "language": "python",
   "name": "python3"
  },
  "language_info": {
   "codemirror_mode": {
    "name": "ipython",
    "version": 3
   },
   "file_extension": ".py",
   "mimetype": "text/x-python",
   "name": "python",
   "nbconvert_exporter": "python",
   "pygments_lexer": "ipython3",
   "version": "3.9.12"
  }
 },
 "nbformat": 4,
 "nbformat_minor": 5
}
