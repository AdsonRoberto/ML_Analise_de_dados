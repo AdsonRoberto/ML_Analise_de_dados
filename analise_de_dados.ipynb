{
 "cells": [
  {
   "cell_type": "markdown",
   "id": "fb21ab50-d84a-440b-b03b-b3421b171abf",
   "metadata": {},
   "source": [
    "# importando bibliotecas"
   ]
  },
  {
   "cell_type": "code",
   "execution_count": 33,
   "id": "3bd78ba9-d9cd-43b1-a2bf-8e3fcf1d00c0",
   "metadata": {},
   "outputs": [],
   "source": [
    "import pandas as pd\n",
    "import numpy as np\n",
    "import seaborn as sns\n",
    "import scipy"
   ]
  },
  {
   "cell_type": "markdown",
   "id": "af22c33a-ac98-471c-9614-3f855d8229ac",
   "metadata": {},
   "source": [
    "# carregando dados"
   ]
  },
  {
   "cell_type": "code",
   "execution_count": 34,
   "id": "d38eefe3-5949-4241-8cc1-513cba045f2f",
   "metadata": {},
   "outputs": [
    {
     "data": {
      "text/html": [
       "<div>\n",
       "<style scoped>\n",
       "    .dataframe tbody tr th:only-of-type {\n",
       "        vertical-align: middle;\n",
       "    }\n",
       "\n",
       "    .dataframe tbody tr th {\n",
       "        vertical-align: top;\n",
       "    }\n",
       "\n",
       "    .dataframe thead th {\n",
       "        text-align: right;\n",
       "    }\n",
       "</style>\n",
       "<table border=\"1\" class=\"dataframe\">\n",
       "  <thead>\n",
       "    <tr style=\"text-align: right;\">\n",
       "      <th></th>\n",
       "      <th>fixed acidity</th>\n",
       "      <th>volatile acidity</th>\n",
       "      <th>citric acid</th>\n",
       "      <th>residual sugar</th>\n",
       "      <th>chlorides</th>\n",
       "      <th>free sulfur dioxide</th>\n",
       "      <th>total sulfur dioxide</th>\n",
       "      <th>density</th>\n",
       "      <th>pH</th>\n",
       "      <th>sulphates</th>\n",
       "      <th>alcohol</th>\n",
       "      <th>quality</th>\n",
       "    </tr>\n",
       "  </thead>\n",
       "  <tbody>\n",
       "    <tr>\n",
       "      <th>0</th>\n",
       "      <td>7.4</td>\n",
       "      <td>0.70</td>\n",
       "      <td>0.00</td>\n",
       "      <td>1.9</td>\n",
       "      <td>0.076</td>\n",
       "      <td>11.0</td>\n",
       "      <td>34.0</td>\n",
       "      <td>0.9978</td>\n",
       "      <td>3.51</td>\n",
       "      <td>0.56</td>\n",
       "      <td>9.4</td>\n",
       "      <td>5</td>\n",
       "    </tr>\n",
       "    <tr>\n",
       "      <th>1</th>\n",
       "      <td>7.8</td>\n",
       "      <td>0.88</td>\n",
       "      <td>0.00</td>\n",
       "      <td>2.6</td>\n",
       "      <td>0.098</td>\n",
       "      <td>25.0</td>\n",
       "      <td>67.0</td>\n",
       "      <td>0.9968</td>\n",
       "      <td>3.20</td>\n",
       "      <td>0.68</td>\n",
       "      <td>9.8</td>\n",
       "      <td>5</td>\n",
       "    </tr>\n",
       "    <tr>\n",
       "      <th>2</th>\n",
       "      <td>7.8</td>\n",
       "      <td>0.76</td>\n",
       "      <td>0.04</td>\n",
       "      <td>2.3</td>\n",
       "      <td>0.092</td>\n",
       "      <td>15.0</td>\n",
       "      <td>54.0</td>\n",
       "      <td>0.9970</td>\n",
       "      <td>3.26</td>\n",
       "      <td>0.65</td>\n",
       "      <td>9.8</td>\n",
       "      <td>5</td>\n",
       "    </tr>\n",
       "    <tr>\n",
       "      <th>3</th>\n",
       "      <td>11.2</td>\n",
       "      <td>0.28</td>\n",
       "      <td>0.56</td>\n",
       "      <td>1.9</td>\n",
       "      <td>0.075</td>\n",
       "      <td>17.0</td>\n",
       "      <td>60.0</td>\n",
       "      <td>0.9980</td>\n",
       "      <td>3.16</td>\n",
       "      <td>0.58</td>\n",
       "      <td>9.8</td>\n",
       "      <td>6</td>\n",
       "    </tr>\n",
       "    <tr>\n",
       "      <th>4</th>\n",
       "      <td>7.4</td>\n",
       "      <td>0.70</td>\n",
       "      <td>0.00</td>\n",
       "      <td>1.9</td>\n",
       "      <td>0.076</td>\n",
       "      <td>11.0</td>\n",
       "      <td>34.0</td>\n",
       "      <td>0.9978</td>\n",
       "      <td>3.51</td>\n",
       "      <td>0.56</td>\n",
       "      <td>9.4</td>\n",
       "      <td>5</td>\n",
       "    </tr>\n",
       "  </tbody>\n",
       "</table>\n",
       "</div>"
      ],
      "text/plain": [
       "   fixed acidity  volatile acidity  citric acid  residual sugar  chlorides  \\\n",
       "0            7.4              0.70         0.00             1.9      0.076   \n",
       "1            7.8              0.88         0.00             2.6      0.098   \n",
       "2            7.8              0.76         0.04             2.3      0.092   \n",
       "3           11.2              0.28         0.56             1.9      0.075   \n",
       "4            7.4              0.70         0.00             1.9      0.076   \n",
       "\n",
       "   free sulfur dioxide  total sulfur dioxide  density    pH  sulphates  \\\n",
       "0                 11.0                  34.0   0.9978  3.51       0.56   \n",
       "1                 25.0                  67.0   0.9968  3.20       0.68   \n",
       "2                 15.0                  54.0   0.9970  3.26       0.65   \n",
       "3                 17.0                  60.0   0.9980  3.16       0.58   \n",
       "4                 11.0                  34.0   0.9978  3.51       0.56   \n",
       "\n",
       "   alcohol  quality  \n",
       "0      9.4        5  \n",
       "1      9.8        5  \n",
       "2      9.8        5  \n",
       "3      9.8        6  \n",
       "4      9.4        5  "
      ]
     },
     "execution_count": 34,
     "metadata": {},
     "output_type": "execute_result"
    }
   ],
   "source": [
    "#Lendo os dados com pandas \n",
    "dados = pd.read_csv(\"winequality-red.csv\")\n",
    "\n",
    "#exibindo os cinco primeiros do dataset\n",
    "dados.head()"
   ]
  },
  {
   "cell_type": "code",
   "execution_count": 35,
   "id": "68beb051-8a96-46f6-bd8f-fdd23754a58b",
   "metadata": {},
   "outputs": [
    {
     "data": {
      "text/html": [
       "<div>\n",
       "<style scoped>\n",
       "    .dataframe tbody tr th:only-of-type {\n",
       "        vertical-align: middle;\n",
       "    }\n",
       "\n",
       "    .dataframe tbody tr th {\n",
       "        vertical-align: top;\n",
       "    }\n",
       "\n",
       "    .dataframe thead th {\n",
       "        text-align: right;\n",
       "    }\n",
       "</style>\n",
       "<table border=\"1\" class=\"dataframe\">\n",
       "  <thead>\n",
       "    <tr style=\"text-align: right;\">\n",
       "      <th>ID</th>\n",
       "      <th>fixed acidity</th>\n",
       "      <th>volatile acidity</th>\n",
       "      <th>citric acid</th>\n",
       "      <th>residual sugar</th>\n",
       "      <th>chlorides</th>\n",
       "      <th>free sulfur dioxide</th>\n",
       "      <th>total sulfur dioxide</th>\n",
       "      <th>density</th>\n",
       "      <th>pH</th>\n",
       "      <th>sulphates</th>\n",
       "      <th>alcohol</th>\n",
       "      <th>quality</th>\n",
       "    </tr>\n",
       "  </thead>\n",
       "  <tbody>\n",
       "    <tr>\n",
       "      <th>0</th>\n",
       "      <td>7.4</td>\n",
       "      <td>0.70</td>\n",
       "      <td>0.00</td>\n",
       "      <td>1.9</td>\n",
       "      <td>0.076</td>\n",
       "      <td>11.0</td>\n",
       "      <td>34.0</td>\n",
       "      <td>0.9978</td>\n",
       "      <td>3.51</td>\n",
       "      <td>0.56</td>\n",
       "      <td>9.4</td>\n",
       "      <td>5</td>\n",
       "    </tr>\n",
       "    <tr>\n",
       "      <th>1</th>\n",
       "      <td>7.8</td>\n",
       "      <td>0.88</td>\n",
       "      <td>0.00</td>\n",
       "      <td>2.6</td>\n",
       "      <td>0.098</td>\n",
       "      <td>25.0</td>\n",
       "      <td>67.0</td>\n",
       "      <td>0.9968</td>\n",
       "      <td>3.20</td>\n",
       "      <td>0.68</td>\n",
       "      <td>9.8</td>\n",
       "      <td>5</td>\n",
       "    </tr>\n",
       "    <tr>\n",
       "      <th>2</th>\n",
       "      <td>7.8</td>\n",
       "      <td>0.76</td>\n",
       "      <td>0.04</td>\n",
       "      <td>2.3</td>\n",
       "      <td>0.092</td>\n",
       "      <td>15.0</td>\n",
       "      <td>54.0</td>\n",
       "      <td>0.9970</td>\n",
       "      <td>3.26</td>\n",
       "      <td>0.65</td>\n",
       "      <td>9.8</td>\n",
       "      <td>5</td>\n",
       "    </tr>\n",
       "    <tr>\n",
       "      <th>3</th>\n",
       "      <td>11.2</td>\n",
       "      <td>0.28</td>\n",
       "      <td>0.56</td>\n",
       "      <td>1.9</td>\n",
       "      <td>0.075</td>\n",
       "      <td>17.0</td>\n",
       "      <td>60.0</td>\n",
       "      <td>0.9980</td>\n",
       "      <td>3.16</td>\n",
       "      <td>0.58</td>\n",
       "      <td>9.8</td>\n",
       "      <td>6</td>\n",
       "    </tr>\n",
       "    <tr>\n",
       "      <th>4</th>\n",
       "      <td>7.4</td>\n",
       "      <td>0.70</td>\n",
       "      <td>0.00</td>\n",
       "      <td>1.9</td>\n",
       "      <td>0.076</td>\n",
       "      <td>11.0</td>\n",
       "      <td>34.0</td>\n",
       "      <td>0.9978</td>\n",
       "      <td>3.51</td>\n",
       "      <td>0.56</td>\n",
       "      <td>9.4</td>\n",
       "      <td>5</td>\n",
       "    </tr>\n",
       "  </tbody>\n",
       "</table>\n",
       "</div>"
      ],
      "text/plain": [
       "ID  fixed acidity  volatile acidity  citric acid  residual sugar  chlorides  \\\n",
       "0             7.4              0.70         0.00             1.9      0.076   \n",
       "1             7.8              0.88         0.00             2.6      0.098   \n",
       "2             7.8              0.76         0.04             2.3      0.092   \n",
       "3            11.2              0.28         0.56             1.9      0.075   \n",
       "4             7.4              0.70         0.00             1.9      0.076   \n",
       "\n",
       "ID  free sulfur dioxide  total sulfur dioxide  density    pH  sulphates  \\\n",
       "0                  11.0                  34.0   0.9978  3.51       0.56   \n",
       "1                  25.0                  67.0   0.9968  3.20       0.68   \n",
       "2                  15.0                  54.0   0.9970  3.26       0.65   \n",
       "3                  17.0                  60.0   0.9980  3.16       0.58   \n",
       "4                  11.0                  34.0   0.9978  3.51       0.56   \n",
       "\n",
       "ID  alcohol  quality  \n",
       "0       9.4        5  \n",
       "1       9.8        5  \n",
       "2       9.8        5  \n",
       "3       9.8        6  \n",
       "4       9.4        5  "
      ]
     },
     "execution_count": 35,
     "metadata": {},
     "output_type": "execute_result"
    }
   ],
   "source": [
    "# Adicionando nome ID na primeira coluna \n",
    "dados.rename_axis(\"ID\", axis = 'columns', inplace = True)\n",
    "dados.head()"
   ]
  },
  {
   "cell_type": "markdown",
   "id": "d19683a6-7bbb-44ed-9e7c-caceca21a395",
   "metadata": {},
   "source": [
    "# Distribuições de frequência com variáveis quantitativas"
   ]
  },
  {
   "cell_type": "code",
   "execution_count": 36,
   "id": "f483355b-e692-4803-92e5-67c285fab91f",
   "metadata": {},
   "outputs": [
    {
     "data": {
      "text/plain": [
       "2.74"
      ]
     },
     "execution_count": 36,
     "metadata": {},
     "output_type": "execute_result"
    }
   ],
   "source": [
    "#variável quantitativa do pH\n",
    "dados.pH.min()"
   ]
  },
  {
   "cell_type": "code",
   "execution_count": 37,
   "id": "cc2a3e18-292d-43c1-898e-9b2e244a2515",
   "metadata": {},
   "outputs": [
    {
     "data": {
      "text/plain": [
       "4.01"
      ]
     },
     "execution_count": 37,
     "metadata": {},
     "output_type": "execute_result"
    }
   ],
   "source": [
    "dados.pH.max()"
   ]
  },
  {
   "cell_type": "code",
   "execution_count": 38,
   "id": "138c2cab-8b65-4642-b7a6-ea208d765d19",
   "metadata": {},
   "outputs": [
    {
     "data": {
      "text/plain": [
       "0       Ácido Ideal\n",
       "1       Ácido Azedo\n",
       "2       Ácido Azedo\n",
       "3       Ácido Azedo\n",
       "4       Ácido Ideal\n",
       "           ...     \n",
       "1594    Ácido Ideal\n",
       "1595    Ácido Ideal\n",
       "1596    Ácido Ideal\n",
       "1597    Ácido Ideal\n",
       "1598    Ácido Ideal\n",
       "Name: pH, Length: 1599, dtype: category\n",
       "Categories (5, object): ['Ácido Azedo' < 'Ácido Ideal' < 'Ácido' < 'Neutro' < 'Alcalino']"
      ]
     },
     "execution_count": 38,
     "metadata": {},
     "output_type": "execute_result"
    }
   ],
   "source": [
    "classes = [0, 3.3, 3.6, 6.9, 7.1, 14]\n",
    "labels = ['Ácido Azedo', 'Ácido Ideal', 'Ácido' , 'Neutro', 'Alcalino']\n",
    "\n",
    "pd.cut(x = dados.pH,bins = classes,labels = labels, include_lowest = True )"
   ]
  },
  {
   "cell_type": "code",
   "execution_count": 39,
   "id": "5e50c7e3-9cb5-4089-989d-60925819acb5",
   "metadata": {},
   "outputs": [
    {
     "data": {
      "text/html": [
       "<div>\n",
       "<style scoped>\n",
       "    .dataframe tbody tr th:only-of-type {\n",
       "        vertical-align: middle;\n",
       "    }\n",
       "\n",
       "    .dataframe tbody tr th {\n",
       "        vertical-align: top;\n",
       "    }\n",
       "\n",
       "    .dataframe thead th {\n",
       "        text-align: right;\n",
       "    }\n",
       "</style>\n",
       "<table border=\"1\" class=\"dataframe\">\n",
       "  <thead>\n",
       "    <tr style=\"text-align: right;\">\n",
       "      <th>pH</th>\n",
       "      <th>Frequência</th>\n",
       "      <th>Porcentagem (%)</th>\n",
       "    </tr>\n",
       "  </thead>\n",
       "  <tbody>\n",
       "    <tr>\n",
       "      <th>Ácido Azedo</th>\n",
       "      <td>783</td>\n",
       "      <td>48.968105</td>\n",
       "    </tr>\n",
       "    <tr>\n",
       "      <th>Ácido Ideal</th>\n",
       "      <td>768</td>\n",
       "      <td>48.030019</td>\n",
       "    </tr>\n",
       "    <tr>\n",
       "      <th>Ácido</th>\n",
       "      <td>48</td>\n",
       "      <td>3.001876</td>\n",
       "    </tr>\n",
       "    <tr>\n",
       "      <th>Neutro</th>\n",
       "      <td>0</td>\n",
       "      <td>0.000000</td>\n",
       "    </tr>\n",
       "    <tr>\n",
       "      <th>Alcalino</th>\n",
       "      <td>0</td>\n",
       "      <td>0.000000</td>\n",
       "    </tr>\n",
       "  </tbody>\n",
       "</table>\n",
       "</div>"
      ],
      "text/plain": [
       "pH           Frequência  Porcentagem (%)\n",
       "Ácido Azedo         783        48.968105\n",
       "Ácido Ideal         768        48.030019\n",
       "Ácido                48         3.001876\n",
       "Neutro                0         0.000000\n",
       "Alcalino              0         0.000000"
      ]
     },
     "execution_count": 39,
     "metadata": {},
     "output_type": "execute_result"
    }
   ],
   "source": [
    "frequencia = pd.value_counts(\n",
    "    pd.cut(\n",
    "        x = dados.pH,\n",
    "        bins = classes,\n",
    "        labels = labels,\n",
    "        include_lowest = True\n",
    "    )\n",
    ")\n",
    "\n",
    "percentual = pd.value_counts(\n",
    "    pd.cut(\n",
    "        x = dados.pH,\n",
    "        bins = classes,\n",
    "        labels = labels,\n",
    "        include_lowest = True\n",
    "    ), normalize = True\n",
    ") * 100\n",
    "\n",
    "dist_freq_pH = pd.DataFrame(\n",
    "    {'Frequência': frequencia, 'Porcentagem (%)': percentual}\n",
    ")\n",
    "\n",
    "dist_freq_pH.rename_axis('pH', axis= 'columns', inplace = True)\n",
    "\n",
    "dist_freq_pH.sort_index(ascending = True, inplace = True)\n",
    "\n",
    "dist_freq_pH"
   ]
  },
  {
   "cell_type": "code",
   "execution_count": 40,
   "id": "befcc2e0-6621-4331-9c1e-4a9be54436cf",
   "metadata": {},
   "outputs": [
    {
     "data": {
      "text/plain": [
       "(1599, 12)"
      ]
     },
     "execution_count": 40,
     "metadata": {},
     "output_type": "execute_result"
    }
   ],
   "source": [
    "#número de registros e a quantidade de variáveis\n",
    "n = dados.shape\n",
    "n"
   ]
  },
  {
   "cell_type": "code",
   "execution_count": 41,
   "id": "95905faa-4766-405a-bb30-5c75d140f179",
   "metadata": {},
   "outputs": [
    {
     "data": {
      "text/plain": [
       "1599"
      ]
     },
     "execution_count": 41,
     "metadata": {},
     "output_type": "execute_result"
    }
   ],
   "source": [
    "#para pegar só o número de registros\n",
    "n = dados.shape[0]\n",
    "n"
   ]
  },
  {
   "cell_type": "code",
   "execution_count": 42,
   "id": "ebf3aa90-ec11-4900-b89c-56208b971781",
   "metadata": {},
   "outputs": [
    {
     "data": {
      "text/plain": [
       "11.679494879154115"
      ]
     },
     "execution_count": 42,
     "metadata": {},
     "output_type": "execute_result"
    }
   ],
   "source": [
    "#descobrir o número de classes de amplitude fixa por meio da regra de Sturges\n",
    "\n",
    "k = 1 + (10 /3) * np.log10(n) \n",
    "k "
   ]
  },
  {
   "cell_type": "code",
   "execution_count": 43,
   "id": "74bb4b9b-3252-42c0-983a-1c408285483b",
   "metadata": {},
   "outputs": [
    {
     "data": {
      "text/plain": [
       "12.0"
      ]
     },
     "execution_count": 43,
     "metadata": {},
     "output_type": "execute_result"
    }
   ],
   "source": [
    "#arredondando  a variável k\n",
    "k = k.round(0)\n",
    "k"
   ]
  },
  {
   "cell_type": "code",
   "execution_count": 44,
   "id": "7ad02c65-f629-4e67-9ea4-ccd8ff3dd6b9",
   "metadata": {},
   "outputs": [
    {
     "data": {
      "text/plain": [
       "12"
      ]
     },
     "execution_count": 44,
     "metadata": {},
     "output_type": "execute_result"
    }
   ],
   "source": [
    "k = int(k.round(0))\n",
    "k"
   ]
  },
  {
   "cell_type": "code",
   "execution_count": 45,
   "id": "5df51bb0-1e9f-4acf-8387-c464f09aa679",
   "metadata": {},
   "outputs": [
    {
     "data": {
      "text/plain": [
       "(0.996, 0.997]    419\n",
       "(0.997, 0.998]    397\n",
       "(0.995, 0.996]    272\n",
       "(0.998, 0.999]    182\n",
       "(0.999, 1.0]      108\n",
       "(0.993, 0.995]    105\n",
       "(0.992, 0.993]     45\n",
       "(1.0, 1.001]       32\n",
       "(0.991, 0.992]     13\n",
       "(1.001, 1.003]      9\n",
       "(1.003, 1.004]      9\n",
       "(0.989, 0.991]      8\n",
       "Name: density, dtype: int64"
      ]
     },
     "execution_count": 45,
     "metadata": {},
     "output_type": "execute_result"
    }
   ],
   "source": [
    "#utilizando value_counts() para distribuição de frequencia\n",
    "pd.value_counts(\n",
    "    pd.cut(\n",
    "        x = dados.density,\n",
    "        bins = 12,\n",
    "        include_lowest = True\n",
    "    )\n",
    ")"
   ]
  },
  {
   "cell_type": "code",
   "execution_count": 46,
   "id": "b168f00e-7dda-4348-b2be-fb08f26e9755",
   "metadata": {},
   "outputs": [
    {
     "data": {
      "text/html": [
       "<div>\n",
       "<style scoped>\n",
       "    .dataframe tbody tr th:only-of-type {\n",
       "        vertical-align: middle;\n",
       "    }\n",
       "\n",
       "    .dataframe tbody tr th {\n",
       "        vertical-align: top;\n",
       "    }\n",
       "\n",
       "    .dataframe thead th {\n",
       "        text-align: right;\n",
       "    }\n",
       "</style>\n",
       "<table border=\"1\" class=\"dataframe\">\n",
       "  <thead>\n",
       "    <tr style=\"text-align: right;\">\n",
       "      <th></th>\n",
       "      <th>Frequência</th>\n",
       "      <th>Porcentagem (%)</th>\n",
       "    </tr>\n",
       "  </thead>\n",
       "  <tbody>\n",
       "    <tr>\n",
       "      <th>(0.989, 0.991]</th>\n",
       "      <td>8</td>\n",
       "      <td>0.005003</td>\n",
       "    </tr>\n",
       "    <tr>\n",
       "      <th>(0.991, 0.992]</th>\n",
       "      <td>13</td>\n",
       "      <td>0.008130</td>\n",
       "    </tr>\n",
       "    <tr>\n",
       "      <th>(0.992, 0.993]</th>\n",
       "      <td>45</td>\n",
       "      <td>0.028143</td>\n",
       "    </tr>\n",
       "    <tr>\n",
       "      <th>(0.993, 0.995]</th>\n",
       "      <td>105</td>\n",
       "      <td>0.065666</td>\n",
       "    </tr>\n",
       "    <tr>\n",
       "      <th>(0.995, 0.996]</th>\n",
       "      <td>272</td>\n",
       "      <td>0.170106</td>\n",
       "    </tr>\n",
       "    <tr>\n",
       "      <th>(0.996, 0.997]</th>\n",
       "      <td>419</td>\n",
       "      <td>0.262039</td>\n",
       "    </tr>\n",
       "    <tr>\n",
       "      <th>(0.997, 0.998]</th>\n",
       "      <td>397</td>\n",
       "      <td>0.248280</td>\n",
       "    </tr>\n",
       "    <tr>\n",
       "      <th>(0.998, 0.999]</th>\n",
       "      <td>182</td>\n",
       "      <td>0.113821</td>\n",
       "    </tr>\n",
       "    <tr>\n",
       "      <th>(0.999, 1.0]</th>\n",
       "      <td>108</td>\n",
       "      <td>0.067542</td>\n",
       "    </tr>\n",
       "    <tr>\n",
       "      <th>(1.0, 1.001]</th>\n",
       "      <td>32</td>\n",
       "      <td>0.020013</td>\n",
       "    </tr>\n",
       "    <tr>\n",
       "      <th>(1.001, 1.003]</th>\n",
       "      <td>9</td>\n",
       "      <td>0.005629</td>\n",
       "    </tr>\n",
       "    <tr>\n",
       "      <th>(1.003, 1.004]</th>\n",
       "      <td>9</td>\n",
       "      <td>0.005629</td>\n",
       "    </tr>\n",
       "  </tbody>\n",
       "</table>\n",
       "</div>"
      ],
      "text/plain": [
       "                Frequência  Porcentagem (%)\n",
       "(0.989, 0.991]           8         0.005003\n",
       "(0.991, 0.992]          13         0.008130\n",
       "(0.992, 0.993]          45         0.028143\n",
       "(0.993, 0.995]         105         0.065666\n",
       "(0.995, 0.996]         272         0.170106\n",
       "(0.996, 0.997]         419         0.262039\n",
       "(0.997, 0.998]         397         0.248280\n",
       "(0.998, 0.999]         182         0.113821\n",
       "(0.999, 1.0]           108         0.067542\n",
       "(1.0, 1.001]            32         0.020013\n",
       "(1.001, 1.003]           9         0.005629\n",
       "(1.003, 1.004]           9         0.005629"
      ]
     },
     "execution_count": 46,
     "metadata": {},
     "output_type": "execute_result"
    }
   ],
   "source": [
    "#para ordenar do menor ao maior registro e adicionar os atributos frequencia e percentual para gerar novo DataFrame\n",
    "frequencia = pd.value_counts(\n",
    "    pd.cut(\n",
    "        x = dados.density,\n",
    "        bins = 12,\n",
    "        include_lowest = True\n",
    "    ),\n",
    "    sort = False\n",
    ")\n",
    "\n",
    "percentual = pd.value_counts(\n",
    "    pd.cut(\n",
    "        x = dados.density,\n",
    "        bins = 12,\n",
    "        include_lowest = True\n",
    "    ),\n",
    "    sort = False,\n",
    "    normalize = True\n",
    ")\n",
    "\n",
    "\n",
    "dist_freq_quantitativas_amplitude_fixa = pd.DataFrame(\n",
    "    {'Frequência': frequencia, 'Porcentagem (%)': percentual}\n",
    ")\n",
    "dist_freq_quantitativas_amplitude_fixa"
   ]
  },
  {
   "cell_type": "code",
   "execution_count": 47,
   "id": "4b13a1f1-ae8c-4cd5-9d30-086b4f3c884b",
   "metadata": {},
   "outputs": [
    {
     "data": {
      "text/html": [
       "<div>\n",
       "<style scoped>\n",
       "    .dataframe tbody tr th:only-of-type {\n",
       "        vertical-align: middle;\n",
       "    }\n",
       "\n",
       "    .dataframe tbody tr th {\n",
       "        vertical-align: top;\n",
       "    }\n",
       "\n",
       "    .dataframe thead th {\n",
       "        text-align: right;\n",
       "    }\n",
       "</style>\n",
       "<table border=\"1\" class=\"dataframe\">\n",
       "  <thead>\n",
       "    <tr style=\"text-align: right;\">\n",
       "      <th>density</th>\n",
       "      <th>Frequência</th>\n",
       "      <th>Porcentagem (%)</th>\n",
       "    </tr>\n",
       "  </thead>\n",
       "  <tbody>\n",
       "    <tr>\n",
       "      <th>(0.989, 0.991]</th>\n",
       "      <td>8</td>\n",
       "      <td>0.005003</td>\n",
       "    </tr>\n",
       "    <tr>\n",
       "      <th>(0.991, 0.992]</th>\n",
       "      <td>13</td>\n",
       "      <td>0.008130</td>\n",
       "    </tr>\n",
       "    <tr>\n",
       "      <th>(0.992, 0.993]</th>\n",
       "      <td>45</td>\n",
       "      <td>0.028143</td>\n",
       "    </tr>\n",
       "    <tr>\n",
       "      <th>(0.993, 0.995]</th>\n",
       "      <td>105</td>\n",
       "      <td>0.065666</td>\n",
       "    </tr>\n",
       "    <tr>\n",
       "      <th>(0.995, 0.996]</th>\n",
       "      <td>272</td>\n",
       "      <td>0.170106</td>\n",
       "    </tr>\n",
       "    <tr>\n",
       "      <th>(0.996, 0.997]</th>\n",
       "      <td>419</td>\n",
       "      <td>0.262039</td>\n",
       "    </tr>\n",
       "    <tr>\n",
       "      <th>(0.997, 0.998]</th>\n",
       "      <td>397</td>\n",
       "      <td>0.248280</td>\n",
       "    </tr>\n",
       "    <tr>\n",
       "      <th>(0.998, 0.999]</th>\n",
       "      <td>182</td>\n",
       "      <td>0.113821</td>\n",
       "    </tr>\n",
       "    <tr>\n",
       "      <th>(0.999, 1.0]</th>\n",
       "      <td>108</td>\n",
       "      <td>0.067542</td>\n",
       "    </tr>\n",
       "    <tr>\n",
       "      <th>(1.0, 1.001]</th>\n",
       "      <td>32</td>\n",
       "      <td>0.020013</td>\n",
       "    </tr>\n",
       "    <tr>\n",
       "      <th>(1.001, 1.003]</th>\n",
       "      <td>9</td>\n",
       "      <td>0.005629</td>\n",
       "    </tr>\n",
       "    <tr>\n",
       "      <th>(1.003, 1.004]</th>\n",
       "      <td>9</td>\n",
       "      <td>0.005629</td>\n",
       "    </tr>\n",
       "  </tbody>\n",
       "</table>\n",
       "</div>"
      ],
      "text/plain": [
       "density         Frequência  Porcentagem (%)\n",
       "(0.989, 0.991]           8         0.005003\n",
       "(0.991, 0.992]          13         0.008130\n",
       "(0.992, 0.993]          45         0.028143\n",
       "(0.993, 0.995]         105         0.065666\n",
       "(0.995, 0.996]         272         0.170106\n",
       "(0.996, 0.997]         419         0.262039\n",
       "(0.997, 0.998]         397         0.248280\n",
       "(0.998, 0.999]         182         0.113821\n",
       "(0.999, 1.0]           108         0.067542\n",
       "(1.0, 1.001]            32         0.020013\n",
       "(1.001, 1.003]           9         0.005629\n",
       "(1.003, 1.004]           9         0.005629"
      ]
     },
     "execution_count": 47,
     "metadata": {},
     "output_type": "execute_result"
    }
   ],
   "source": [
    "dist_freq_quantitativas_amplitude_fixa.rename_axis('density', axis= 'columns', inplace = True)\n",
    "dist_freq_quantitativas_amplitude_fixa"
   ]
  },
  {
   "cell_type": "markdown",
   "id": "36e240d5-420a-4e19-8cdb-2942b35ccd8b",
   "metadata": {},
   "source": [
    "# Medidas de tendencia central"
   ]
  },
  {
   "cell_type": "code",
   "execution_count": 48,
   "id": "d7dcfb07-5506-47da-9c5a-c39b3f99e524",
   "metadata": {},
   "outputs": [
    {
     "data": {
      "text/plain": [
       "10.422983114446502"
      ]
     },
     "execution_count": 48,
     "metadata": {},
     "output_type": "execute_result"
    }
   ],
   "source": [
    "#cálculo da média\n",
    "dados.alcohol.mean()"
   ]
  },
  {
   "cell_type": "code",
   "execution_count": 49,
   "id": "d102f2cd-17c7-41c7-b5fc-7875448bc743",
   "metadata": {},
   "outputs": [
    {
     "data": {
      "text/plain": [
       "0.9967466791744831"
      ]
     },
     "execution_count": 49,
     "metadata": {},
     "output_type": "execute_result"
    }
   ],
   "source": [
    "dados.density.mean()"
   ]
  },
  {
   "cell_type": "code",
   "execution_count": 50,
   "id": "b63bf310-9155-469b-ba1a-bcfd49f4b782",
   "metadata": {},
   "outputs": [
    {
     "data": {
      "text/plain": [
       "0.5278205128205131"
      ]
     },
     "execution_count": 50,
     "metadata": {},
     "output_type": "execute_result"
    }
   ],
   "source": [
    "dados['volatile acidity'].mean()"
   ]
  },
  {
   "cell_type": "code",
   "execution_count": 51,
   "id": "7ca9760c-a810-4bc9-a715-7fe4726d6c16",
   "metadata": {},
   "outputs": [
    {
     "data": {
      "text/plain": [
       "0.2709756097560964"
      ]
     },
     "execution_count": 51,
     "metadata": {},
     "output_type": "execute_result"
    }
   ],
   "source": [
    "dados['citric acid'].mean()"
   ]
  },
  {
   "cell_type": "code",
   "execution_count": 52,
   "id": "876a94b9-328e-4a61-acaf-c624176ceaa1",
   "metadata": {},
   "outputs": [
    {
     "data": {
      "text/plain": [
       "10.2"
      ]
     },
     "execution_count": 52,
     "metadata": {},
     "output_type": "execute_result"
    }
   ],
   "source": [
    "#calculo mediana\n",
    "dados.alcohol.median()"
   ]
  },
  {
   "cell_type": "code",
   "execution_count": 53,
   "id": "11b75fa5-285b-4bd7-8ef7-c19f6c501134",
   "metadata": {},
   "outputs": [
    {
     "data": {
      "text/plain": [
       "0.99675"
      ]
     },
     "execution_count": 53,
     "metadata": {},
     "output_type": "execute_result"
    }
   ],
   "source": [
    "dados.density.median()"
   ]
  },
  {
   "cell_type": "code",
   "execution_count": 54,
   "id": "aba032c9-c456-4f23-8532-bc5b1c547f49",
   "metadata": {},
   "outputs": [
    {
     "data": {
      "text/plain": [
       "0.52"
      ]
     },
     "execution_count": 54,
     "metadata": {},
     "output_type": "execute_result"
    }
   ],
   "source": [
    "dados['volatile acidity'].median()"
   ]
  },
  {
   "cell_type": "code",
   "execution_count": 55,
   "id": "53dbf7c1-c979-4105-8994-2478f6e528b0",
   "metadata": {},
   "outputs": [
    {
     "data": {
      "text/plain": [
       "0.26"
      ]
     },
     "execution_count": 55,
     "metadata": {},
     "output_type": "execute_result"
    }
   ],
   "source": [
    "dados['citric acid'].median()"
   ]
  },
  {
   "cell_type": "code",
   "execution_count": 56,
   "id": "71f608cc-15ad-4e24-b619-33a0176ae0c6",
   "metadata": {},
   "outputs": [
    {
     "data": {
      "text/plain": [
       "12"
      ]
     },
     "execution_count": 56,
     "metadata": {},
     "output_type": "execute_result"
    }
   ],
   "source": [
    "n = dados.shape[1]\n",
    "n"
   ]
  },
  {
   "cell_type": "code",
   "execution_count": 57,
   "id": "8c775b38-b828-41fa-a311-647a16efd889",
   "metadata": {},
   "outputs": [
    {
     "data": {
      "text/plain": [
       "0    9.5\n",
       "Name: alcohol, dtype: float64"
      ]
     },
     "execution_count": 57,
     "metadata": {},
     "output_type": "execute_result"
    }
   ],
   "source": [
    "# cálculo da moda\n",
    "dados.alcohol.mode()"
   ]
  },
  {
   "cell_type": "code",
   "execution_count": 58,
   "id": "b358a361-ee8b-43a1-aea4-b51203824d8a",
   "metadata": {},
   "outputs": [
    {
     "data": {
      "text/plain": [
       "0    0.9972\n",
       "Name: density, dtype: float64"
      ]
     },
     "execution_count": 58,
     "metadata": {},
     "output_type": "execute_result"
    }
   ],
   "source": [
    "dados.density.mode()"
   ]
  },
  {
   "cell_type": "code",
   "execution_count": 59,
   "id": "adb8b366-ee4f-4998-9044-971a072ab7fa",
   "metadata": {},
   "outputs": [
    {
     "data": {
      "text/plain": [
       "0    0.6\n",
       "Name: volatile acidity, dtype: float64"
      ]
     },
     "execution_count": 59,
     "metadata": {},
     "output_type": "execute_result"
    }
   ],
   "source": [
    "dados['volatile acidity'].mode()"
   ]
  },
  {
   "cell_type": "code",
   "execution_count": 60,
   "id": "f249ed8c-28fe-4ac8-b808-d37924d5bf6c",
   "metadata": {},
   "outputs": [
    {
     "data": {
      "text/plain": [
       "0    0.0\n",
       "Name: citric acid, dtype: float64"
      ]
     },
     "execution_count": 60,
     "metadata": {},
     "output_type": "execute_result"
    }
   ],
   "source": [
    "dados['citric acid'].mode()"
   ]
  },
  {
   "cell_type": "markdown",
   "id": "9ecb880c-7c02-4553-b841-92d595eac042",
   "metadata": {},
   "source": [
    "# Relação entre as medidas de tendência central e histogramas"
   ]
  },
  {
   "cell_type": "code",
   "execution_count": 61,
   "id": "8e59a9fd-2870-45f9-aa49-ce9beaed713a",
   "metadata": {},
   "outputs": [
    {
     "name": "stderr",
     "output_type": "stream",
     "text": [
      "C:\\Users\\adson.damasceno\\Anaconda3\\lib\\site-packages\\seaborn\\distributions.py:2619: FutureWarning: `distplot` is a deprecated function and will be removed in a future version. Please adapt your code to use either `displot` (a figure-level function with similar flexibility) or `histplot` (an axes-level function for histograms).\n",
      "  warnings.warn(msg, FutureWarning)\n"
     ]
    },
    {
     "data": {
      "text/plain": [
       "<AxesSubplot:title={'center':'Distribuição de Frequências - Densidade'}, xlabel='g/mL'>"
      ]
     },
     "execution_count": 61,
     "metadata": {},
     "output_type": "execute_result"
    },
    {
     "data": {
      "image/png": "[encoded data removed]",
      "text/plain": [
       "<Figure size 864x432 with 1 Axes>"
      ]
     },
     "metadata": {
      "needs_background": "light"
     },
     "output_type": "display_data"
    }
   ],
   "source": [
    "ax = sns.distplot(dados.density, kde = False)\n",
    "\n",
    "ax.figure.set_size_inches(12, 6)\n",
    "ax.set_title('Distribuição de Frequências - Densidade', fontsize=18)\n",
    "ax.set_xlabel('g/mL', fontsize=14)\n",
    "ax"
   ]
  },
  {
   "cell_type": "code",
   "execution_count": 62,
   "id": "b5bb550f-afdc-4444-a042-2ddf7e053aa6",
   "metadata": {},
   "outputs": [
    {
     "data": {
      "text/plain": [
       "<AxesSubplot:title={'center':'Distribuição de Frequências - Densidade  com KDE'}, xlabel='g/mL', ylabel='Density'>"
      ]
     },
     "execution_count": 62,
     "metadata": {},
     "output_type": "execute_result"
    },
    {
     "data": {
      "image/png": "[encoded data removed]",
      "text/plain": [
       "<Figure size 864x432 with 1 Axes>"
      ]
     },
     "metadata": {
      "needs_background": "light"
     },
     "output_type": "display_data"
    }
   ],
   "source": [
    "# com KDE\n",
    "ax = sns.distplot(dados.density)\n",
    "\n",
    "ax.figure.set_size_inches(12, 6)\n",
    "ax.set_title('Distribuição de Frequências - Densidade  com KDE', fontsize=18)\n",
    "ax.set_xlabel('g/mL', fontsize=14)\n",
    "ax"
   ]
  },
  {
   "cell_type": "code",
   "execution_count": 63,
   "id": "7c181791-680d-40c2-bf40-82a759fab7c1",
   "metadata": {},
   "outputs": [
    {
     "name": "stderr",
     "output_type": "stream",
     "text": [
      "C:\\Users\\adson.damasceno\\Anaconda3\\lib\\site-packages\\seaborn\\distributions.py:2619: FutureWarning: `distplot` is a deprecated function and will be removed in a future version. Please adapt your code to use either `displot` (a figure-level function with similar flexibility) or `histplot` (an axes-level function for histograms).\n",
      "  warnings.warn(msg, FutureWarning)\n"
     ]
    },
    {
     "data": {
      "text/plain": [
       "<AxesSubplot:xlabel='density', ylabel='Density'>"
      ]
     },
     "execution_count": 63,
     "metadata": {},
     "output_type": "execute_result"
    },
    {
     "data": {
      "image/png": "[encoded data removed]",
      "text/plain": [
       "<Figure size 864x432 with 1 Axes>"
      ]
     },
     "metadata": {
      "needs_background": "light"
     },
     "output_type": "display_data"
    }
   ],
   "source": [
    "ax = sns.distplot(dados.query('density < 0.996').density)\n",
    "ax.figure.set_size_inches(12, 6)\n",
    "ax"
   ]
  },
  {
   "cell_type": "code",
   "execution_count": 64,
   "id": "cec4f106-df43-49a4-93fe-56541b967d70",
   "metadata": {},
   "outputs": [
    {
     "data": {
      "text/plain": [
       "0.9972"
      ]
     },
     "execution_count": 64,
     "metadata": {},
     "output_type": "execute_result"
    }
   ],
   "source": [
    "Moda = dados.density.mode()[0]\n",
    "Moda"
   ]
  },
  {
   "cell_type": "code",
   "execution_count": 65,
   "id": "cf0e2ec5-2dc9-4b27-aac0-ffcc812023f8",
   "metadata": {},
   "outputs": [
    {
     "data": {
      "text/plain": [
       "0.99675"
      ]
     },
     "execution_count": 65,
     "metadata": {},
     "output_type": "execute_result"
    }
   ],
   "source": [
    "Mediana = dados.density.median()\n",
    "Mediana"
   ]
  },
  {
   "cell_type": "code",
   "execution_count": 66,
   "id": "1031ab38-e249-43c7-9bb6-3aa0c2bbf7c6",
   "metadata": {},
   "outputs": [
    {
     "data": {
      "text/plain": [
       "0.9967466791744831"
      ]
     },
     "execution_count": 66,
     "metadata": {},
     "output_type": "execute_result"
    }
   ],
   "source": [
    "Media = dados.density.mean()\n",
    "Media"
   ]
  },
  {
   "cell_type": "code",
   "execution_count": 67,
   "id": "9ee8a1dc-5eb8-422f-8978-49ae3f34f071",
   "metadata": {},
   "outputs": [
    {
     "data": {
      "text/plain": [
       "True"
      ]
     },
     "execution_count": 67,
     "metadata": {},
     "output_type": "execute_result"
    }
   ],
   "source": [
    "Moda > Mediana > Media"
   ]
  },
  {
   "cell_type": "code",
   "execution_count": 68,
   "id": "49329f16-0b3a-41ab-9bbd-1533a0cb61ac",
   "metadata": {},
   "outputs": [
    {
     "name": "stderr",
     "output_type": "stream",
     "text": [
      "C:\\Users\\adson.damasceno\\Anaconda3\\lib\\site-packages\\seaborn\\distributions.py:2619: FutureWarning: `distplot` is a deprecated function and will be removed in a future version. Please adapt your code to use either `displot` (a figure-level function with similar flexibility) or `histplot` (an axes-level function for histograms).\n",
      "  warnings.warn(msg, FutureWarning)\n"
     ]
    },
    {
     "data": {
      "text/plain": [
       "<AxesSubplot:xlabel='citric acid', ylabel='Density'>"
      ]
     },
     "execution_count": 68,
     "metadata": {},
     "output_type": "execute_result"
    },
    {
     "data": {
      "image/png": "[encoded data removed]",
      "text/plain": [
       "<Figure size 864x432 with 1 Axes>"
      ]
     },
     "metadata": {
      "needs_background": "light"
     },
     "output_type": "display_data"
    }
   ],
   "source": [
    "ax = sns.distplot(dados['citric acid'])\n",
    "ax.figure.set_size_inches(12, 6)\n",
    "ax"
   ]
  },
  {
   "cell_type": "code",
   "execution_count": 69,
   "id": "5d47928f-35bb-4405-a121-cb77db38a100",
   "metadata": {},
   "outputs": [
    {
     "data": {
      "text/plain": [
       "0    0.0\n",
       "Name: citric acid, dtype: float64"
      ]
     },
     "execution_count": 69,
     "metadata": {},
     "output_type": "execute_result"
    }
   ],
   "source": [
    "Moda = dados['citric acid'].mode()\n",
    "Moda"
   ]
  },
  {
   "cell_type": "code",
   "execution_count": 70,
   "id": "23409cd8-2db9-4065-93c9-6598fb68d2db",
   "metadata": {},
   "outputs": [
    {
     "data": {
      "text/plain": [
       "0.26"
      ]
     },
     "execution_count": 70,
     "metadata": {},
     "output_type": "execute_result"
    }
   ],
   "source": [
    "Mediana = dados['citric acid'].median()\n",
    "Mediana"
   ]
  },
  {
   "cell_type": "code",
   "execution_count": 71,
   "id": "4ac612a3-0850-4475-bf75-f180ace50603",
   "metadata": {},
   "outputs": [
    {
     "data": {
      "text/plain": [
       "0.2709756097560964"
      ]
     },
     "execution_count": 71,
     "metadata": {},
     "output_type": "execute_result"
    }
   ],
   "source": [
    "Media = dados['citric acid'].mean()\n",
    "Media"
   ]
  },
  {
   "cell_type": "code",
   "execution_count": 72,
   "id": "5127c0d0-10e2-4b32-bd34-c10e346a7a81",
   "metadata": {},
   "outputs": [
    {
     "name": "stderr",
     "output_type": "stream",
     "text": [
      "C:\\Users\\adson.damasceno\\Anaconda3\\lib\\site-packages\\seaborn\\distributions.py:2619: FutureWarning: `distplot` is a deprecated function and will be removed in a future version. Please adapt your code to use either `displot` (a figure-level function with similar flexibility) or `histplot` (an axes-level function for histograms).\n",
      "  warnings.warn(msg, FutureWarning)\n"
     ]
    },
    {
     "data": {
      "text/plain": [
       "<AxesSubplot:xlabel='alcohol', ylabel='Density'>"
      ]
     },
     "execution_count": 72,
     "metadata": {},
     "output_type": "execute_result"
    },
    {
     "data": {
      "image/png": "[encoded data removed]",
      "text/plain": [
       "<Figure size 864x432 with 1 Axes>"
      ]
     },
     "metadata": {
      "needs_background": "light"
     },
     "output_type": "display_data"
    }
   ],
   "source": [
    "ax = sns.distplot(dados['alcohol'])\n",
    "ax.figure.set_size_inches(12, 6)\n",
    "ax"
   ]
  },
  {
   "cell_type": "code",
   "execution_count": 73,
   "id": "2950522c-bd01-46b7-9556-ed67731c9d5f",
   "metadata": {},
   "outputs": [
    {
     "name": "stderr",
     "output_type": "stream",
     "text": [
      "C:\\Users\\adson.damasceno\\Anaconda3\\lib\\site-packages\\seaborn\\distributions.py:2619: FutureWarning: `distplot` is a deprecated function and will be removed in a future version. Please adapt your code to use either `displot` (a figure-level function with similar flexibility) or `histplot` (an axes-level function for histograms).\n",
      "  warnings.warn(msg, FutureWarning)\n"
     ]
    },
    {
     "data": {
      "text/plain": [
       "<AxesSubplot:xlabel='volatile acidity', ylabel='Density'>"
      ]
     },
     "execution_count": 73,
     "metadata": {},
     "output_type": "execute_result"
    },
    {
     "data": {
      "image/png": "[encoded data removed]",
      "text/plain": [
       "<Figure size 864x432 with 1 Axes>"
      ]
     },
     "metadata": {
      "needs_background": "light"
     },
     "output_type": "display_data"
    }
   ],
   "source": [
    "ax = sns.distplot(dados['volatile acidity'])\n",
    "ax.figure.set_size_inches(12, 6)\n",
    "ax"
   ]
  },
  {
   "cell_type": "markdown",
   "id": "bb650430-5e5f-475e-9648-e0675b447483",
   "metadata": {},
   "source": [
    "# Medidas separatrizes"
   ]
  },
  {
   "cell_type": "code",
   "execution_count": 74,
   "id": "60d2dfd5-cb9a-47b4-ab40-54f7a0d71a46",
   "metadata": {},
   "outputs": [
    {
     "data": {
      "text/plain": [
       "0.25     9.5\n",
       "0.50    10.2\n",
       "0.75    11.1\n",
       "Name: alcohol, dtype: float64"
      ]
     },
     "execution_count": 74,
     "metadata": {},
     "output_type": "execute_result"
    }
   ],
   "source": [
    "#cálculo do Quartil\n",
    "dados.alcohol.quantile([0.25, 0.5, 0.75])"
   ]
  },
  {
   "cell_type": "code",
   "execution_count": 75,
   "id": "bb71979a-18ca-4c92-ae5e-86a4dc3d9818",
   "metadata": {},
   "outputs": [
    {
     "data": {
      "text/plain": [
       "0.25    0.995600\n",
       "0.50    0.996750\n",
       "0.75    0.997835\n",
       "Name: density, dtype: float64"
      ]
     },
     "execution_count": 75,
     "metadata": {},
     "output_type": "execute_result"
    }
   ],
   "source": [
    "dados.density.quantile([0.25, 0.5, 0.75])"
   ]
  },
  {
   "cell_type": "code",
   "execution_count": 76,
   "id": "04ee5719-c8e6-4c8c-a7dc-279eb10cd184",
   "metadata": {},
   "outputs": [
    {
     "data": {
      "text/plain": [
       "0.25    0.39\n",
       "0.50    0.52\n",
       "0.75    0.64\n",
       "Name: volatile acidity, dtype: float64"
      ]
     },
     "execution_count": 76,
     "metadata": {},
     "output_type": "execute_result"
    }
   ],
   "source": [
    "dados['volatile acidity'].quantile([0.25, 0.5, 0.75])"
   ]
  },
  {
   "cell_type": "code",
   "execution_count": 77,
   "id": "2bbc5469-03cd-419c-b5e2-76fe693476fe",
   "metadata": {},
   "outputs": [
    {
     "data": {
      "text/plain": [
       "0.25    0.09\n",
       "0.50    0.26\n",
       "0.75    0.42\n",
       "Name: citric acid, dtype: float64"
      ]
     },
     "execution_count": 77,
     "metadata": {},
     "output_type": "execute_result"
    }
   ],
   "source": [
    "dados['citric acid'].quantile([0.25, 0.5, 0.75])"
   ]
  },
  {
   "cell_type": "code",
   "execution_count": 78,
   "id": "413f55ec-2fcc-4d32-badf-ec244a26e1b0",
   "metadata": {},
   "outputs": [
    {
     "data": {
      "text/plain": [
       "array([8.4, 9. , 9. , 9.1, 9.2, 9.2, 9.2, 9.2, 9.2, 9.3, 9.3, 9.3, 9.3,\n",
       "       9.4, 9.4, 9.4, 9.4, 9.4, 9.4, 9.5])"
      ]
     },
     "execution_count": 78,
     "metadata": {},
     "output_type": "execute_result"
    }
   ],
   "source": [
    "#Cálculo dos percentis\n",
    "percentil_20 = np.percentile(dados.alcohol, q=range(0,20))\n",
    "percentil_20"
   ]
  },
  {
   "cell_type": "code",
   "execution_count": 79,
   "id": "b6e4c242-5127-470a-94d8-55310586c69f",
   "metadata": {},
   "outputs": [
    {
     "data": {
      "text/plain": [
       "array([ 8.4,  9. ,  9. ,  9.1,  9.2,  9.2,  9.2,  9.2,  9.2,  9.3,  9.3,\n",
       "        9.3,  9.3,  9.4,  9.4,  9.4,  9.4,  9.4,  9.4,  9.5,  9.5,  9.5,\n",
       "        9.5,  9.5,  9.5,  9.5,  9.5,  9.5,  9.6,  9.6,  9.6,  9.6,  9.7,\n",
       "        9.7,  9.7,  9.8,  9.8,  9.8,  9.8,  9.8,  9.9,  9.9,  9.9, 10. ,\n",
       "       10. , 10. , 10. , 10.1, 10.1, 10.1])"
      ]
     },
     "execution_count": 79,
     "metadata": {},
     "output_type": "execute_result"
    }
   ],
   "source": [
    "percentil_50 = np.percentile(dados.alcohol, q=range(0,50))\n",
    "percentil_50"
   ]
  },
  {
   "cell_type": "code",
   "execution_count": 80,
   "id": "0993e451-f4dc-43d9-ad91-6b83801ad81a",
   "metadata": {},
   "outputs": [
    {
     "data": {
      "text/plain": [
       "array([ 8.4,  9. ,  9. ,  9.1,  9.2,  9.2,  9.2,  9.2,  9.2,  9.3,  9.3,\n",
       "        9.3,  9.3,  9.4,  9.4,  9.4,  9.4,  9.4,  9.4,  9.5,  9.5,  9.5,\n",
       "        9.5,  9.5,  9.5,  9.5,  9.5,  9.5,  9.6,  9.6,  9.6,  9.6,  9.7,\n",
       "        9.7,  9.7,  9.8,  9.8,  9.8,  9.8,  9.8,  9.9,  9.9,  9.9, 10. ,\n",
       "       10. , 10. , 10. , 10.1, 10.1, 10.1, 10.2, 10.2, 10.2, 10.3, 10.3,\n",
       "       10.4, 10.4, 10.4, 10.5, 10.5, 10.5, 10.5, 10.6, 10.6, 10.7, 10.7,\n",
       "       10.8, 10.8, 10.9, 10.9])"
      ]
     },
     "execution_count": 80,
     "metadata": {},
     "output_type": "execute_result"
    }
   ],
   "source": [
    "percentil_70 = np.percentile(dados.alcohol, q=range(0,70))\n",
    "percentil_70"
   ]
  },
  {
   "cell_type": "code",
   "execution_count": 81,
   "id": "47b648f1-4f78-4e04-a064-856b7596f327",
   "metadata": {},
   "outputs": [
    {
     "data": {
      "text/plain": [
       "array([0.99007  , 0.99182  , 0.99258  , 0.9932188, 0.99346  , 0.993598 ,\n",
       "       0.99378  , 0.9939686, 0.99418  , 0.99438  , 0.994556 , 0.99467  ,\n",
       "       0.9947552, 0.9948374, 0.9949172, 0.995    , 0.99508  , 0.99516  ,\n",
       "       0.9952   , 0.9952724])"
      ]
     },
     "execution_count": 81,
     "metadata": {},
     "output_type": "execute_result"
    }
   ],
   "source": [
    "percentil_20 = np.percentile(dados.density, q=range(0,20))\n",
    "percentil_20"
   ]
  },
  {
   "cell_type": "code",
   "execution_count": 82,
   "id": "4e6601b6-5b47-41bc-85f4-7b4772c5bb43",
   "metadata": {},
   "outputs": [
    {
     "data": {
      "text/plain": [
       "array([0.99007  , 0.99182  , 0.99258  , 0.9932188, 0.99346  , 0.993598 ,\n",
       "       0.99378  , 0.9939686, 0.99418  , 0.99438  , 0.994556 , 0.99467  ,\n",
       "       0.9947552, 0.9948374, 0.9949172, 0.995    , 0.99508  , 0.99516  ,\n",
       "       0.9952   , 0.9952724, 0.99534  , 0.9954   , 0.99546  , 0.9955   ,\n",
       "       0.9955452, 0.9956   , 0.9956548, 0.99572  , 0.99576  , 0.9958   ,\n",
       "       0.99586  , 0.9959   , 0.9959672, 0.996    , 0.9961   , 0.99613  ,\n",
       "       0.9961628, 0.9962   , 0.99622  , 0.99628  , 0.9963   , 0.9963518,\n",
       "       0.9964   , 0.9964   , 0.99648  , 0.99652  , 0.99656  , 0.9966   ,\n",
       "       0.9966504, 0.9967   ])"
      ]
     },
     "execution_count": 82,
     "metadata": {},
     "output_type": "execute_result"
    }
   ],
   "source": [
    "percentil_50 = np.percentile(dados.density, q=range(0,50))\n",
    "percentil_50"
   ]
  },
  {
   "cell_type": "code",
   "execution_count": 83,
   "id": "50f8cc81-2d54-4be1-aac6-fd7a9ddf6217",
   "metadata": {},
   "outputs": [
    {
     "data": {
      "text/plain": [
       "array([0.99007  , 0.99182  , 0.99258  , 0.9932188, 0.99346  , 0.993598 ,\n",
       "       0.99378  , 0.9939686, 0.99418  , 0.99438  , 0.994556 , 0.99467  ,\n",
       "       0.9947552, 0.9948374, 0.9949172, 0.995    , 0.99508  , 0.99516  ,\n",
       "       0.9952   , 0.9952724, 0.99534  , 0.9954   , 0.99546  , 0.9955   ,\n",
       "       0.9955452, 0.9956   , 0.9956548, 0.99572  , 0.99576  , 0.9958   ,\n",
       "       0.99586  , 0.9959   , 0.9959672, 0.996    , 0.9961   , 0.99613  ,\n",
       "       0.9961628, 0.9962   , 0.99622  , 0.99628  , 0.9963   , 0.9963518,\n",
       "       0.9964   , 0.9964   , 0.99648  , 0.99652  , 0.99656  , 0.9966   ,\n",
       "       0.9966504, 0.9967   , 0.99675  , 0.9968   , 0.9968   , 0.99683  ,\n",
       "       0.99689  , 0.9969   , 0.9969788, 0.997    , 0.9970368, 0.9971   ,\n",
       "       0.997156 , 0.9972   , 0.9972   , 0.99724  , 0.9973   , 0.99734  ,\n",
       "       0.99738  , 0.9974   , 0.99745  , 0.99748  ])"
      ]
     },
     "execution_count": 83,
     "metadata": {},
     "output_type": "execute_result"
    }
   ],
   "source": [
    "percentil_70 = np.percentile(dados.density, q=range(0,70))\n",
    "percentil_70"
   ]
  },
  {
   "cell_type": "code",
   "execution_count": 84,
   "id": "e386fbf7-d21e-43f6-b5dd-146aae7c9148",
   "metadata": {},
   "outputs": [
    {
     "data": {
      "text/plain": [
       "array([0.12  , 0.19  , 0.2296, 0.24  , 0.26  , 0.27  , 0.28  , 0.29  ,\n",
       "       0.3   , 0.305 , 0.31  , 0.315 , 0.32  , 0.33  , 0.34  , 0.34  ,\n",
       "       0.35  , 0.3566, 0.36  , 0.36  ])"
      ]
     },
     "execution_count": 84,
     "metadata": {},
     "output_type": "execute_result"
    }
   ],
   "source": [
    "percentil_20 = np.percentile(dados['volatile acidity'], q=range(0,20))\n",
    "percentil_20"
   ]
  },
  {
   "cell_type": "code",
   "execution_count": 85,
   "id": "0c990a59-6f55-43c4-8578-21c2bcbef639",
   "metadata": {},
   "outputs": [
    {
     "data": {
      "text/plain": [
       "array([0.12  , 0.19  , 0.2296, 0.24  , 0.26  , 0.27  , 0.28  , 0.29  ,\n",
       "       0.3   , 0.305 , 0.31  , 0.315 , 0.32  , 0.33  , 0.34  , 0.34  ,\n",
       "       0.35  , 0.3566, 0.36  , 0.36  , 0.37  , 0.3758, 0.38  , 0.38  ,\n",
       "       0.39  , 0.39  , 0.4   , 0.4   , 0.41  , 0.41  , 0.415 , 0.42  ,\n",
       "       0.4236, 0.43  , 0.43  , 0.44  , 0.44  , 0.45  , 0.46  , 0.46  ,\n",
       "       0.47  , 0.48  , 0.48  , 0.49  , 0.49  , 0.5   , 0.5   , 0.5   ,\n",
       "       0.51  , 0.52  ])"
      ]
     },
     "execution_count": 85,
     "metadata": {},
     "output_type": "execute_result"
    }
   ],
   "source": [
    "percentil_50 = np.percentile(dados['volatile acidity'], q=range(0,50))\n",
    "percentil_50"
   ]
  },
  {
   "cell_type": "code",
   "execution_count": 86,
   "id": "da5554d5-0183-4767-a65f-185c05b4af47",
   "metadata": {},
   "outputs": [
    {
     "data": {
      "text/plain": [
       "array([0.12  , 0.19  , 0.2296, 0.24  , 0.26  , 0.27  , 0.28  , 0.29  ,\n",
       "       0.3   , 0.305 , 0.31  , 0.315 , 0.32  , 0.33  , 0.34  , 0.34  ,\n",
       "       0.35  , 0.3566, 0.36  , 0.36  , 0.37  , 0.3758, 0.38  , 0.38  ,\n",
       "       0.39  , 0.39  , 0.4   , 0.4   , 0.41  , 0.41  , 0.415 , 0.42  ,\n",
       "       0.4236, 0.43  , 0.43  , 0.44  , 0.44  , 0.45  , 0.46  , 0.46  ,\n",
       "       0.47  , 0.48  , 0.48  , 0.49  , 0.49  , 0.5   , 0.5   , 0.5   ,\n",
       "       0.51  , 0.52  , 0.52  , 0.52  , 0.53  , 0.54  , 0.54  , 0.545 ,\n",
       "       0.55  , 0.56  , 0.56  , 0.57  , 0.57  , 0.58  , 0.58  , 0.585 ,\n",
       "       0.59  , 0.59  , 0.6   , 0.6   , 0.6   , 0.61  ])"
      ]
     },
     "execution_count": 86,
     "metadata": {},
     "output_type": "execute_result"
    }
   ],
   "source": [
    "percentil_70 = np.percentile(dados['volatile acidity'], q=range(0,70))\n",
    "percentil_70"
   ]
  },
  {
   "cell_type": "code",
   "execution_count": 87,
   "id": "9eb2c6a9-3386-49f0-a669-bf42799278a0",
   "metadata": {},
   "outputs": [
    {
     "data": {
      "text/plain": [
       "array([0.  , 0.  , 0.  , 0.  , 0.  , 0.  , 0.  , 0.  , 0.  , 0.01, 0.01,\n",
       "       0.02, 0.02, 0.02, 0.03, 0.03, 0.04, 0.04, 0.05, 0.06])"
      ]
     },
     "execution_count": 87,
     "metadata": {},
     "output_type": "execute_result"
    }
   ],
   "source": [
    "percentil_20 = np.percentile(dados['citric acid'], q=range(0,20))\n",
    "percentil_20"
   ]
  },
  {
   "cell_type": "code",
   "execution_count": 88,
   "id": "171703d8-f675-47ac-84f9-12310e60c83f",
   "metadata": {},
   "outputs": [
    {
     "data": {
      "text/plain": [
       "array([0.   , 0.   , 0.   , 0.   , 0.   , 0.   , 0.   , 0.   , 0.   ,\n",
       "       0.01 , 0.01 , 0.02 , 0.02 , 0.02 , 0.03 , 0.03 , 0.04 , 0.04 ,\n",
       "       0.05 , 0.06 , 0.07 , 0.07 , 0.08 , 0.08 , 0.09 , 0.09 , 0.1  ,\n",
       "       0.1  , 0.11 , 0.12 , 0.124, 0.13 , 0.14 , 0.15 , 0.16 , 0.17 ,\n",
       "       0.18 , 0.19 , 0.2  , 0.2  , 0.21 , 0.21 , 0.22 , 0.22 , 0.23 ,\n",
       "       0.24 , 0.24 , 0.24 , 0.25 , 0.25 ])"
      ]
     },
     "execution_count": 88,
     "metadata": {},
     "output_type": "execute_result"
    }
   ],
   "source": [
    "percentil_50 = np.percentile(dados['citric acid'], q=range(0,50))\n",
    "percentil_50"
   ]
  },
  {
   "cell_type": "code",
   "execution_count": 89,
   "id": "6b803d5a-9e4d-44f8-98a0-f11a785e723b",
   "metadata": {},
   "outputs": [
    {
     "data": {
      "text/plain": [
       "array([0.   , 0.   , 0.   , 0.   , 0.   , 0.   , 0.   , 0.   , 0.   ,\n",
       "       0.01 , 0.01 , 0.02 , 0.02 , 0.02 , 0.03 , 0.03 , 0.04 , 0.04 ,\n",
       "       0.05 , 0.06 , 0.07 , 0.07 , 0.08 , 0.08 , 0.09 , 0.09 , 0.1  ,\n",
       "       0.1  , 0.11 , 0.12 , 0.124, 0.13 , 0.14 , 0.15 , 0.16 , 0.17 ,\n",
       "       0.18 , 0.19 , 0.2  , 0.2  , 0.21 , 0.21 , 0.22 , 0.22 , 0.23 ,\n",
       "       0.24 , 0.24 , 0.24 , 0.25 , 0.25 , 0.26 , 0.26 , 0.26 , 0.27 ,\n",
       "       0.28 , 0.29 , 0.3  , 0.3  , 0.31 , 0.31 , 0.32 , 0.32 , 0.33 ,\n",
       "       0.33 , 0.34 , 0.35 , 0.36 , 0.37 , 0.38 , 0.39 ])"
      ]
     },
     "execution_count": 89,
     "metadata": {},
     "output_type": "execute_result"
    }
   ],
   "source": [
    "percentil_70 = np.percentile(dados['citric acid'], q=range(0,70))\n",
    "percentil_70"
   ]
  },
  {
   "cell_type": "markdown",
   "id": "c5cf76cb-4773-4040-824b-c72e99180301",
   "metadata": {},
   "source": [
    "# Criando boxplot"
   ]
  },
  {
   "cell_type": "code",
   "execution_count": 90,
   "id": "52613907-ab2e-4a6c-aef3-f12b30badb26",
   "metadata": {},
   "outputs": [
    {
     "data": {
      "text/plain": [
       "<AxesSubplot:title={'center':'density'}, xlabel='g/mL'>"
      ]
     },
     "execution_count": 90,
     "metadata": {},
     "output_type": "execute_result"
    },
    {
     "data": {
      "image/png": "[encoded data removed]",
      "text/plain": [
       "<Figure size 864x288 with 1 Axes>"
      ]
     },
     "metadata": {
      "needs_background": "light"
     },
     "output_type": "display_data"
    }
   ],
   "source": [
    "#gerando boxplot\n",
    "ax = sns.boxplot( x = 'density' , data = dados, orient = 'h')\n",
    "ax.figure.set_size_inches(12, 4)\n",
    "ax.set_title('density', fontsize=18)\n",
    "ax.set_xlabel('g/mL', fontsize=14)\n",
    "ax\n"
   ]
  },
  {
   "cell_type": "code",
   "execution_count": 91,
   "id": "72dc74c9-6ded-4c1d-9128-84df1a9b82b5",
   "metadata": {},
   "outputs": [
    {
     "data": {
      "text/plain": [
       "<AxesSubplot:title={'center':'density'}, xlabel='g/mL', ylabel='quality'>"
      ]
     },
     "execution_count": 91,
     "metadata": {},
     "output_type": "execute_result"
    },
    {
     "data": {
      "image/png": "[encoded data removed]",
      "text/plain": [
       "<Figure size 864x288 with 1 Axes>"
      ]
     },
     "metadata": {
      "needs_background": "light"
     },
     "output_type": "display_data"
    }
   ],
   "source": [
    "ax = sns.boxplot( x = 'density', y = 'quality', data = dados, orient = 'h')\n",
    "ax.figure.set_size_inches(12, 4)\n",
    "ax.set_title('density', fontsize=18)\n",
    "ax.set_xlabel('g/mL', fontsize=14)\n",
    "ax"
   ]
  },
  {
   "cell_type": "code",
   "execution_count": 92,
   "id": "ce7de514-bf31-4b36-b00b-0c7456688136",
   "metadata": {},
   "outputs": [
    {
     "data": {
      "text/plain": [
       "<AxesSubplot:title={'center':'citric acid'}, xlabel='g/cm³'>"
      ]
     },
     "execution_count": 92,
     "metadata": {},
     "output_type": "execute_result"
    },
    {
     "data": {
      "image/png": "[encoded data removed]",
      "text/plain": [
       "<Figure size 864x288 with 1 Axes>"
      ]
     },
     "metadata": {
      "needs_background": "light"
     },
     "output_type": "display_data"
    }
   ],
   "source": [
    "ax = sns.boxplot( x = 'citric acid', data = dados, orient = 'h')\n",
    "ax.figure.set_size_inches(12, 4)\n",
    "ax.set_title('citric acid', fontsize=18)\n",
    "ax.set_xlabel('g/cm³', fontsize=14)\n",
    "ax"
   ]
  },
  {
   "cell_type": "code",
   "execution_count": 93,
   "id": "86960ea5-9206-46c4-b76e-33e8c4b1360f",
   "metadata": {},
   "outputs": [
    {
     "data": {
      "text/plain": [
       "<AxesSubplot:title={'center':'volatile acidity'}, xlabel='gr/l'>"
      ]
     },
     "execution_count": 93,
     "metadata": {},
     "output_type": "execute_result"
    },
    {
     "data": {
      "image/png": "[encoded data removed]",
      "text/plain": [
       "<Figure size 864x288 with 1 Axes>"
      ]
     },
     "metadata": {
      "needs_background": "light"
     },
     "output_type": "display_data"
    }
   ],
   "source": [
    "ax = sns.boxplot( x = 'volatile acidity', data = dados, orient = 'h')\n",
    "ax.figure.set_size_inches(12, 4)\n",
    "ax.set_title('volatile acidity', fontsize=18)\n",
    "ax.set_xlabel('gr/l', fontsize=14)\n",
    "ax"
   ]
  },
  {
   "cell_type": "code",
   "execution_count": 95,
   "id": "3364b3e4-96b3-41f7-a9c6-d2eb6c41b0d3",
   "metadata": {},
   "outputs": [
    {
     "data": {
      "text/plain": [
       "<AxesSubplot:title={'center':'alcohol'}, xlabel='mL'>"
      ]
     },
     "execution_count": 95,
     "metadata": {},
     "output_type": "execute_result"
    },
    {
     "data": {
      "image/png": "[encoded data removed]",
      "text/plain": [
       "<Figure size 864x288 with 1 Axes>"
      ]
     },
     "metadata": {
      "needs_background": "light"
     },
     "output_type": "display_data"
    }
   ],
   "source": [
    "ax = sns.boxplot( x = 'alcohol', data = dados, orient = 'h')\n",
    "ax.figure.set_size_inches(12, 4)\n",
    "ax.set_title('alcohol', fontsize=18)\n",
    "ax.set_xlabel('mL', fontsize=14)\n",
    "ax"
   ]
  },
  {
   "cell_type": "markdown",
   "id": "f305818e-1226-402f-95c1-e9d7c51d0758",
   "metadata": {},
   "source": [
    "# Gerar gráficos scatter"
   ]
  },
  {
   "cell_type": "code",
   "execution_count": 96,
   "id": "ee4684f1-0741-4f08-bc53-1b1976d81ea7",
   "metadata": {},
   "outputs": [
    {
     "data": {
      "image/png": "[encoded data removed]",
      "text/plain": [
       "<Figure size 432x288 with 1 Axes>"
      ]
     },
     "metadata": {
      "needs_background": "light"
     },
     "output_type": "display_data"
    }
   ],
   "source": [
    "import matplotlib.pyplot as plt\n",
    "\n",
    "dados.plot.scatter(x='alcohol', y='density', title= \"Scatter plot entre os dois atributos alcohol e density\")\n",
    "\n",
    "x = dados['alcohol']\n",
    "y = dados['density']\n",
    "plt.scatter(x, y)\n",
    "\n",
    "z = np.polyfit(x, y, 1)\n",
    "p = np.poly1d(z)\n",
    "plt.plot(x,p(x),\"r--\")\n",
    "\n",
    "plt.show()"
   ]
  },
  {
   "cell_type": "code",
   "execution_count": 97,
   "id": "d4895ae7-4a7f-4941-ad55-10e0ea4b3e74",
   "metadata": {},
   "outputs": [
    {
     "data": {
      "image/png": "[encoded data removed]",
      "text/plain": [
       "<Figure size 432x288 with 1 Axes>"
      ]
     },
     "metadata": {
      "needs_background": "light"
     },
     "output_type": "display_data"
    }
   ],
   "source": [
    "dados.plot.scatter(x='alcohol', y='citric acid', title= \"Scatter plot entre os dois atributos alcohol e citric acid\")\n",
    "\n",
    "x = dados['alcohol']\n",
    "y = dados['citric acid']\n",
    "plt.scatter(x, y)\n",
    "\n",
    "z = np.polyfit(x, y, 1)\n",
    "p = np.poly1d(z)\n",
    "plt.plot(x,p(x),\"r--\")\n",
    "\n",
    "plt.show()"
   ]
  },
  {
   "cell_type": "code",
   "execution_count": 98,
   "id": "fae30a3c-2a42-4776-ab19-3baae0835222",
   "metadata": {},
   "outputs": [
    {
     "data": {
      "image/png": "[encoded data removed]",
      "text/plain": [
       "<Figure size 432x288 with 1 Axes>"
      ]
     },
     "metadata": {
      "needs_background": "light"
     },
     "output_type": "display_data"
    }
   ],
   "source": [
    "dados.plot.scatter(x='alcohol', y='volatile acidity', title= \"Scatter plot entre os dois atributos alcohol e volatile acidity\")\n",
    "\n",
    "x = dados['alcohol']\n",
    "y = dados['volatile acidity']\n",
    "plt.scatter(x, y)\n",
    "\n",
    "z = np.polyfit(x, y, 1)\n",
    "p = np.poly1d(z)\n",
    "plt.plot(x,p(x),\"r--\")\n",
    "\n",
    "plt.show()"
   ]
  },
  {
   "cell_type": "code",
   "execution_count": 99,
   "id": "84ab8c8a-fcfd-4ceb-8b69-83bd583b7467",
   "metadata": {},
   "outputs": [
    {
     "data": {
      "image/png": "[encoded data removed]",
      "text/plain": [
       "<Figure size 432x288 with 1 Axes>"
      ]
     },
     "metadata": {
      "needs_background": "light"
     },
     "output_type": "display_data"
    }
   ],
   "source": [
    "dados.plot.scatter(x='density', y='citric acid', title= \"Scatter plot entre os dois atributos density e citric acid\")\n",
    "\n",
    "x = dados['density']\n",
    "y = dados['citric acid']\n",
    "plt.scatter(x, y)\n",
    "\n",
    "z = np.polyfit(x, y, 1)\n",
    "p = np.poly1d(z)\n",
    "plt.plot(x,p(x),\"r--\")\n",
    "\n",
    "plt.show()"
   ]
  },
  {
   "cell_type": "code",
   "execution_count": 100,
   "id": "873bd210-bee3-4f97-83b9-a9c5c2d0d5db",
   "metadata": {},
   "outputs": [
    {
     "data": {
      "image/png": "[encoded data removed]",
      "text/plain": [
       "<Figure size 432x288 with 1 Axes>"
      ]
     },
     "metadata": {
      "needs_background": "light"
     },
     "output_type": "display_data"
    }
   ],
   "source": [
    "dados.plot.scatter(x='density', y='volatile acidity', title= \"Scatter plot entre os dois atributos density e volatile acidity\")\n",
    "\n",
    "x = dados['density']\n",
    "y = dados['volatile acidity']\n",
    "plt.scatter(x, y)\n",
    "\n",
    "z = np.polyfit(x, y, 1)\n",
    "p = np.poly1d(z)\n",
    "plt.plot(x,p(x),\"r--\")\n",
    "\n",
    "plt.show()"
   ]
  },
  {
   "cell_type": "code",
   "execution_count": 101,
   "id": "5044b20e-4481-4515-80d0-9ec97e565051",
   "metadata": {},
   "outputs": [
    {
     "data": {
      "image/png": "[encoded data removed]",
      "text/plain": [
       "<Figure size 432x288 with 1 Axes>"
      ]
     },
     "metadata": {
      "needs_background": "light"
     },
     "output_type": "display_data"
    }
   ],
   "source": [
    "dados.plot.scatter(x='citric acid', y='volatile acidity', title= \"Scatter plot entre os dois atributos citric acid e volatile acidity\")\n",
    "\n",
    "x = dados['citric acid']\n",
    "y = dados['volatile acidity']\n",
    "plt.scatter(x, y)\n",
    "\n",
    "z = np.polyfit(x, y, 1)\n",
    "p = np.poly1d(z)\n",
    "plt.plot(x,p(x),\"r--\")\n",
    "\n",
    "plt.show()"
   ]
  },
  {
   "cell_type": "markdown",
   "id": "d246b51f-396e-444b-8f07-2f24a665bf2c",
   "metadata": {},
   "source": [
    "# Matriz de correlação e covariância"
   ]
  },
  {
   "cell_type": "code",
   "execution_count": 102,
   "id": "aaafd4de-5510-4360-9924-75f6c048f6fa",
   "metadata": {},
   "outputs": [
    {
     "name": "stdout",
     "output_type": "stream",
     "text": [
      "Matriz de covariância: \n"
     ]
    },
    {
     "data": {
      "text/html": [
       "<div>\n",
       "<style scoped>\n",
       "    .dataframe tbody tr th:only-of-type {\n",
       "        vertical-align: middle;\n",
       "    }\n",
       "\n",
       "    .dataframe tbody tr th {\n",
       "        vertical-align: top;\n",
       "    }\n",
       "\n",
       "    .dataframe thead th {\n",
       "        text-align: right;\n",
       "    }\n",
       "</style>\n",
       "<table border=\"1\" class=\"dataframe\">\n",
       "  <thead>\n",
       "    <tr style=\"text-align: right;\">\n",
       "      <th></th>\n",
       "      <th>0</th>\n",
       "      <th>1</th>\n",
       "      <th>2</th>\n",
       "      <th>3</th>\n",
       "      <th>4</th>\n",
       "      <th>5</th>\n",
       "      <th>6</th>\n",
       "      <th>7</th>\n",
       "      <th>8</th>\n",
       "      <th>9</th>\n",
       "    </tr>\n",
       "  </thead>\n",
       "  <tbody>\n",
       "    <tr>\n",
       "      <th>0</th>\n",
       "      <td>0.032062</td>\n",
       "      <td>-0.019272</td>\n",
       "      <td>0.000484</td>\n",
       "      <td>0.000517</td>\n",
       "      <td>-0.019674</td>\n",
       "      <td>0.450426</td>\n",
       "      <td>0.000007</td>\n",
       "      <td>0.006495</td>\n",
       "      <td>-0.007921</td>\n",
       "      <td>-0.038600</td>\n",
       "    </tr>\n",
       "    <tr>\n",
       "      <th>1</th>\n",
       "      <td>-0.019272</td>\n",
       "      <td>0.037947</td>\n",
       "      <td>0.039434</td>\n",
       "      <td>0.001869</td>\n",
       "      <td>-0.124252</td>\n",
       "      <td>0.227697</td>\n",
       "      <td>0.000134</td>\n",
       "      <td>-0.016298</td>\n",
       "      <td>0.010328</td>\n",
       "      <td>0.022815</td>\n",
       "    </tr>\n",
       "    <tr>\n",
       "      <th>2</th>\n",
       "      <td>0.000484</td>\n",
       "      <td>0.039434</td>\n",
       "      <td>1.987897</td>\n",
       "      <td>0.003690</td>\n",
       "      <td>2.758611</td>\n",
       "      <td>9.416441</td>\n",
       "      <td>0.000945</td>\n",
       "      <td>-0.018644</td>\n",
       "      <td>0.001321</td>\n",
       "      <td>0.063219</td>\n",
       "    </tr>\n",
       "    <tr>\n",
       "      <th>3</th>\n",
       "      <td>0.000517</td>\n",
       "      <td>0.001869</td>\n",
       "      <td>0.003690</td>\n",
       "      <td>0.002215</td>\n",
       "      <td>0.002738</td>\n",
       "      <td>0.073387</td>\n",
       "      <td>0.000018</td>\n",
       "      <td>-0.001926</td>\n",
       "      <td>0.002962</td>\n",
       "      <td>-0.011092</td>\n",
       "    </tr>\n",
       "    <tr>\n",
       "      <th>4</th>\n",
       "      <td>-0.019674</td>\n",
       "      <td>-0.124252</td>\n",
       "      <td>2.758611</td>\n",
       "      <td>0.002738</td>\n",
       "      <td>109.414884</td>\n",
       "      <td>229.737521</td>\n",
       "      <td>-0.000433</td>\n",
       "      <td>0.113653</td>\n",
       "      <td>0.091592</td>\n",
       "      <td>-0.773698</td>\n",
       "    </tr>\n",
       "    <tr>\n",
       "      <th>5</th>\n",
       "      <td>0.450426</td>\n",
       "      <td>0.227697</td>\n",
       "      <td>9.416441</td>\n",
       "      <td>0.073387</td>\n",
       "      <td>229.737521</td>\n",
       "      <td>1082.102373</td>\n",
       "      <td>0.004425</td>\n",
       "      <td>-0.337699</td>\n",
       "      <td>0.239471</td>\n",
       "      <td>-7.209298</td>\n",
       "    </tr>\n",
       "    <tr>\n",
       "      <th>6</th>\n",
       "      <td>0.000007</td>\n",
       "      <td>0.000134</td>\n",
       "      <td>0.000945</td>\n",
       "      <td>0.000018</td>\n",
       "      <td>-0.000433</td>\n",
       "      <td>0.004425</td>\n",
       "      <td>0.000004</td>\n",
       "      <td>-0.000100</td>\n",
       "      <td>0.000048</td>\n",
       "      <td>-0.000998</td>\n",
       "    </tr>\n",
       "    <tr>\n",
       "      <th>7</th>\n",
       "      <td>0.006495</td>\n",
       "      <td>-0.016298</td>\n",
       "      <td>-0.018644</td>\n",
       "      <td>-0.001926</td>\n",
       "      <td>0.113653</td>\n",
       "      <td>-0.337699</td>\n",
       "      <td>-0.000100</td>\n",
       "      <td>0.023835</td>\n",
       "      <td>-0.005146</td>\n",
       "      <td>0.033832</td>\n",
       "    </tr>\n",
       "    <tr>\n",
       "      <th>8</th>\n",
       "      <td>-0.007921</td>\n",
       "      <td>0.010328</td>\n",
       "      <td>0.001321</td>\n",
       "      <td>0.002962</td>\n",
       "      <td>0.091592</td>\n",
       "      <td>0.239471</td>\n",
       "      <td>0.000048</td>\n",
       "      <td>-0.005146</td>\n",
       "      <td>0.028733</td>\n",
       "      <td>0.016907</td>\n",
       "    </tr>\n",
       "    <tr>\n",
       "      <th>9</th>\n",
       "      <td>-0.038600</td>\n",
       "      <td>0.022815</td>\n",
       "      <td>0.063219</td>\n",
       "      <td>-0.011092</td>\n",
       "      <td>-0.773698</td>\n",
       "      <td>-7.209298</td>\n",
       "      <td>-0.000998</td>\n",
       "      <td>0.033832</td>\n",
       "      <td>0.016907</td>\n",
       "      <td>1.135647</td>\n",
       "    </tr>\n",
       "  </tbody>\n",
       "</table>\n",
       "</div>"
      ],
      "text/plain": [
       "          0         1         2         3           4            5         6  \\\n",
       "0  0.032062 -0.019272  0.000484  0.000517   -0.019674     0.450426  0.000007   \n",
       "1 -0.019272  0.037947  0.039434  0.001869   -0.124252     0.227697  0.000134   \n",
       "2  0.000484  0.039434  1.987897  0.003690    2.758611     9.416441  0.000945   \n",
       "3  0.000517  0.001869  0.003690  0.002215    0.002738     0.073387  0.000018   \n",
       "4 -0.019674 -0.124252  2.758611  0.002738  109.414884   229.737521 -0.000433   \n",
       "5  0.450426  0.227697  9.416441  0.073387  229.737521  1082.102373  0.004425   \n",
       "6  0.000007  0.000134  0.000945  0.000018   -0.000433     0.004425  0.000004   \n",
       "7  0.006495 -0.016298 -0.018644 -0.001926    0.113653    -0.337699 -0.000100   \n",
       "8 -0.007921  0.010328  0.001321  0.002962    0.091592     0.239471  0.000048   \n",
       "9 -0.038600  0.022815  0.063219 -0.011092   -0.773698    -7.209298 -0.000998   \n",
       "\n",
       "          7         8         9  \n",
       "0  0.006495 -0.007921 -0.038600  \n",
       "1 -0.016298  0.010328  0.022815  \n",
       "2 -0.018644  0.001321  0.063219  \n",
       "3 -0.001926  0.002962 -0.011092  \n",
       "4  0.113653  0.091592 -0.773698  \n",
       "5 -0.337699  0.239471 -7.209298  \n",
       "6 -0.000100  0.000048 -0.000998  \n",
       "7  0.023835 -0.005146  0.033832  \n",
       "8 -0.005146  0.028733  0.016907  \n",
       "9  0.033832  0.016907  1.135647  "
      ]
     },
     "metadata": {},
     "output_type": "display_data"
    },
    {
     "name": "stdout",
     "output_type": "stream",
     "text": [
      "\n",
      "\n",
      "Matriz de correlação: \n"
     ]
    },
    {
     "data": {
      "text/html": [
       "<div>\n",
       "<style scoped>\n",
       "    .dataframe tbody tr th:only-of-type {\n",
       "        vertical-align: middle;\n",
       "    }\n",
       "\n",
       "    .dataframe tbody tr th {\n",
       "        vertical-align: top;\n",
       "    }\n",
       "\n",
       "    .dataframe thead th {\n",
       "        text-align: right;\n",
       "    }\n",
       "</style>\n",
       "<table border=\"1\" class=\"dataframe\">\n",
       "  <thead>\n",
       "    <tr style=\"text-align: right;\">\n",
       "      <th></th>\n",
       "      <th>0</th>\n",
       "      <th>1</th>\n",
       "      <th>2</th>\n",
       "      <th>3</th>\n",
       "      <th>4</th>\n",
       "      <th>5</th>\n",
       "      <th>6</th>\n",
       "      <th>7</th>\n",
       "      <th>8</th>\n",
       "      <th>9</th>\n",
       "    </tr>\n",
       "  </thead>\n",
       "  <tbody>\n",
       "    <tr>\n",
       "      <th>0</th>\n",
       "      <td>1.000000</td>\n",
       "      <td>-0.552496</td>\n",
       "      <td>0.001918</td>\n",
       "      <td>0.061298</td>\n",
       "      <td>-0.010504</td>\n",
       "      <td>0.076470</td>\n",
       "      <td>0.022026</td>\n",
       "      <td>0.234937</td>\n",
       "      <td>-0.260987</td>\n",
       "      <td>-0.202288</td>\n",
       "    </tr>\n",
       "    <tr>\n",
       "      <th>1</th>\n",
       "      <td>-0.552496</td>\n",
       "      <td>1.000000</td>\n",
       "      <td>0.143577</td>\n",
       "      <td>0.203823</td>\n",
       "      <td>-0.060978</td>\n",
       "      <td>0.035533</td>\n",
       "      <td>0.364947</td>\n",
       "      <td>-0.541904</td>\n",
       "      <td>0.312770</td>\n",
       "      <td>0.109903</td>\n",
       "    </tr>\n",
       "    <tr>\n",
       "      <th>2</th>\n",
       "      <td>0.001918</td>\n",
       "      <td>0.143577</td>\n",
       "      <td>1.000000</td>\n",
       "      <td>0.055610</td>\n",
       "      <td>0.187049</td>\n",
       "      <td>0.203028</td>\n",
       "      <td>0.355283</td>\n",
       "      <td>-0.085652</td>\n",
       "      <td>0.005527</td>\n",
       "      <td>0.042075</td>\n",
       "    </tr>\n",
       "    <tr>\n",
       "      <th>3</th>\n",
       "      <td>0.061298</td>\n",
       "      <td>0.203823</td>\n",
       "      <td>0.055610</td>\n",
       "      <td>1.000000</td>\n",
       "      <td>0.005562</td>\n",
       "      <td>0.047400</td>\n",
       "      <td>0.200632</td>\n",
       "      <td>-0.265026</td>\n",
       "      <td>0.371260</td>\n",
       "      <td>-0.221141</td>\n",
       "    </tr>\n",
       "    <tr>\n",
       "      <th>4</th>\n",
       "      <td>-0.010504</td>\n",
       "      <td>-0.060978</td>\n",
       "      <td>0.187049</td>\n",
       "      <td>0.005562</td>\n",
       "      <td>1.000000</td>\n",
       "      <td>0.667666</td>\n",
       "      <td>-0.021946</td>\n",
       "      <td>0.070377</td>\n",
       "      <td>0.051658</td>\n",
       "      <td>-0.069408</td>\n",
       "    </tr>\n",
       "    <tr>\n",
       "      <th>5</th>\n",
       "      <td>0.076470</td>\n",
       "      <td>0.035533</td>\n",
       "      <td>0.203028</td>\n",
       "      <td>0.047400</td>\n",
       "      <td>0.667666</td>\n",
       "      <td>1.000000</td>\n",
       "      <td>0.071269</td>\n",
       "      <td>-0.066495</td>\n",
       "      <td>0.042947</td>\n",
       "      <td>-0.205654</td>\n",
       "    </tr>\n",
       "    <tr>\n",
       "      <th>6</th>\n",
       "      <td>0.022026</td>\n",
       "      <td>0.364947</td>\n",
       "      <td>0.355283</td>\n",
       "      <td>0.200632</td>\n",
       "      <td>-0.021946</td>\n",
       "      <td>0.071269</td>\n",
       "      <td>1.000000</td>\n",
       "      <td>-0.341699</td>\n",
       "      <td>0.148506</td>\n",
       "      <td>-0.496180</td>\n",
       "    </tr>\n",
       "    <tr>\n",
       "      <th>7</th>\n",
       "      <td>0.234937</td>\n",
       "      <td>-0.541904</td>\n",
       "      <td>-0.085652</td>\n",
       "      <td>-0.265026</td>\n",
       "      <td>0.070377</td>\n",
       "      <td>-0.066495</td>\n",
       "      <td>-0.341699</td>\n",
       "      <td>1.000000</td>\n",
       "      <td>-0.196648</td>\n",
       "      <td>0.205633</td>\n",
       "    </tr>\n",
       "    <tr>\n",
       "      <th>8</th>\n",
       "      <td>-0.260987</td>\n",
       "      <td>0.312770</td>\n",
       "      <td>0.005527</td>\n",
       "      <td>0.371260</td>\n",
       "      <td>0.051658</td>\n",
       "      <td>0.042947</td>\n",
       "      <td>0.148506</td>\n",
       "      <td>-0.196648</td>\n",
       "      <td>1.000000</td>\n",
       "      <td>0.093595</td>\n",
       "    </tr>\n",
       "    <tr>\n",
       "      <th>9</th>\n",
       "      <td>-0.202288</td>\n",
       "      <td>0.109903</td>\n",
       "      <td>0.042075</td>\n",
       "      <td>-0.221141</td>\n",
       "      <td>-0.069408</td>\n",
       "      <td>-0.205654</td>\n",
       "      <td>-0.496180</td>\n",
       "      <td>0.205633</td>\n",
       "      <td>0.093595</td>\n",
       "      <td>1.000000</td>\n",
       "    </tr>\n",
       "  </tbody>\n",
       "</table>\n",
       "</div>"
      ],
      "text/plain": [
       "          0         1         2         3         4         5         6  \\\n",
       "0  1.000000 -0.552496  0.001918  0.061298 -0.010504  0.076470  0.022026   \n",
       "1 -0.552496  1.000000  0.143577  0.203823 -0.060978  0.035533  0.364947   \n",
       "2  0.001918  0.143577  1.000000  0.055610  0.187049  0.203028  0.355283   \n",
       "3  0.061298  0.203823  0.055610  1.000000  0.005562  0.047400  0.200632   \n",
       "4 -0.010504 -0.060978  0.187049  0.005562  1.000000  0.667666 -0.021946   \n",
       "5  0.076470  0.035533  0.203028  0.047400  0.667666  1.000000  0.071269   \n",
       "6  0.022026  0.364947  0.355283  0.200632 -0.021946  0.071269  1.000000   \n",
       "7  0.234937 -0.541904 -0.085652 -0.265026  0.070377 -0.066495 -0.341699   \n",
       "8 -0.260987  0.312770  0.005527  0.371260  0.051658  0.042947  0.148506   \n",
       "9 -0.202288  0.109903  0.042075 -0.221141 -0.069408 -0.205654 -0.496180   \n",
       "\n",
       "          7         8         9  \n",
       "0  0.234937 -0.260987 -0.202288  \n",
       "1 -0.541904  0.312770  0.109903  \n",
       "2 -0.085652  0.005527  0.042075  \n",
       "3 -0.265026  0.371260 -0.221141  \n",
       "4  0.070377  0.051658 -0.069408  \n",
       "5 -0.066495  0.042947 -0.205654  \n",
       "6 -0.341699  0.148506 -0.496180  \n",
       "7  1.000000 -0.196648  0.205633  \n",
       "8 -0.196648  1.000000  0.093595  \n",
       "9  0.205633  0.093595  1.000000  "
      ]
     },
     "metadata": {},
     "output_type": "display_data"
    }
   ],
   "source": [
    "# criando uma matriz X com os valores do data frame\n",
    "X = dados.iloc[:,1:-1].values # exceto a coluna dos IDs e da classe\n",
    "\n",
    "# matriz de covariancia\n",
    "covariance = np.cov(X, rowvar=False)\n",
    "\n",
    "# matriz de correlação\n",
    "correlation = np.corrcoef(X, rowvar=False)\n",
    "\n",
    "print('Matriz de covariância: ')\n",
    "covariance_pd = pd.DataFrame(covariance)\n",
    "display(covariance_pd)\n",
    "\n",
    "print('\\n\\nMatriz de correlação: ')\n",
    "correlation_pd = pd.DataFrame(correlation)\n",
    "display(correlation_pd)"
   ]
  },
  {
   "cell_type": "code",
   "execution_count": null,
   "id": "be6e2494-8700-493a-ba87-3971be7fca5c",
   "metadata": {},
   "outputs": [],
   "source": []
  }
 ],
 "metadata": {
  "kernelspec": {
   "display_name": "Python 3 (ipykernel)",
   "language": "python",
   "name": "python3"
  },
  "language_info": {
   "codemirror_mode": {
    "name": "ipython",
    "version": 3
   },
   "file_extension": ".py",
   "mimetype": "text/x-python",
   "name": "python",
   "nbconvert_exporter": "python",
   "pygments_lexer": "ipython3",
   "version": "3.9.12"
  }
 },
 "nbformat": 4,
 "nbformat_minor": 5
}
